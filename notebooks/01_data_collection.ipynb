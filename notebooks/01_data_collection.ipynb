{
 "cells": [
  {
   "cell_type": "code",
   "id": "initial_id",
   "metadata": {
    "collapsed": true,
    "ExecuteTime": {
     "end_time": "2025-04-21T19:34:28.147568Z",
     "start_time": "2025-04-21T19:31:55.899914Z"
    }
   },
   "source": [
    "#Testing for the load_data.py\n",
    "\n",
    "from src.etl.get_census_data import get_census_data\n",
    "\n",
    "dr = get_census_data()\n",
    "\n",
    "print(dr.head())"
   ],
   "outputs": [
    {
     "name": "stderr",
     "output_type": "stream",
     "text": [
      "2025-04-21 15:31:56,036 - INFO - Requesting data for year 2021 from Census API...\n",
      "2025-04-21 15:33:12,283 - INFO - ✅ Success: Received data in 76.25 seconds.\n",
      "2025-04-21 15:33:12,293 - INFO - 📊 Returned 3221 rows and 6 columns.\n",
      "2025-04-21 15:33:12,294 - INFO - Requesting data for year 2022 from Census API...\n",
      "2025-04-21 15:34:28,138 - INFO - ✅ Success: Received data in 75.84 seconds.\n",
      "2025-04-21 15:34:28,143 - INFO - 📊 Returned 3222 rows and 6 columns.\n"
     ]
    },
    {
     "name": "stdout",
     "output_type": "stream",
     "text": [
      "                      NAME B01003_001E B17001_002E state county  year\n",
      "0  Autauga County, Alabama       58239        7847    01    001  2021\n",
      "1  Baldwin County, Alabama      227131       20598    01    003  2021\n",
      "2  Barbour County, Alabama       25259        5890    01    005  2021\n",
      "3     Bibb County, Alabama       22412        3558    01    007  2021\n",
      "4   Blount County, Alabama       58884        7720    01    009  2021\n"
     ]
    }
   ],
   "execution_count": 1
  },
  {
   "metadata": {},
   "cell_type": "code",
   "outputs": [],
   "execution_count": null,
   "source": "",
   "id": "9690f57c1e2ebf84"
  }
 ],
 "metadata": {
  "kernelspec": {
   "display_name": "Python 3",
   "language": "python",
   "name": "python3"
  },
  "language_info": {
   "codemirror_mode": {
    "name": "ipython",
    "version": 2
   },
   "file_extension": ".py",
   "mimetype": "text/x-python",
   "name": "python",
   "nbconvert_exporter": "python",
   "pygments_lexer": "ipython2",
   "version": "2.7.6"
  }
 },
 "nbformat": 4,
 "nbformat_minor": 5
}
